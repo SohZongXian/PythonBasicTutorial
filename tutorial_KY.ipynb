{
 "cells": [
  {
   "cell_type": "markdown",
   "id": "55da8a71-42ae-4238-8466-f8905e317af8",
   "metadata": {},
   "source": [
    "# Print"
   ]
  },
  {
   "cell_type": "code",
   "execution_count": null,
   "id": "768d64af-3554-4908-9c49-fe5aa0457dcc",
   "metadata": {},
   "outputs": [],
   "source": [
    "##string\n",
    "print(\"4\" + \"2\")\n",
    "\n",
    "##int\n",
    "print(4+2)\n",
    "\n",
    "#float\n",
    "print(4.00+2.00)"
   ]
  },
  {
   "cell_type": "markdown",
   "id": "cf35caa7-0ea8-431b-8f5f-b4fb8052eedd",
   "metadata": {},
   "source": [
    "## Variable and Data type "
   ]
  },
  {
   "cell_type": "code",
   "execution_count": null,
   "id": "1a512d37-25c2-45cf-974c-a4a2ce26c0e3",
   "metadata": {},
   "outputs": [],
   "source": [
    "# int\n",
    "x = 4 \n",
    "\n",
    "# float\n",
    "y = 4.0\n",
    "\n",
    "# string\n",
    "z = \"hello\"\n",
    "\n",
    "print(x)"
   ]
  },
  {
   "cell_type": "markdown",
   "id": "52f08f99-ab2e-43d8-a307-7d9c472dafed",
   "metadata": {},
   "source": [
    "# Working with string"
   ]
  },
  {
   "cell_type": "code",
   "execution_count": null,
   "id": "fb287c61-3cf7-489b-a6c3-e78f839da0e6",
   "metadata": {},
   "outputs": [],
   "source": [
    "txt = \"I like bananas\"\n",
    "\n",
    "x = txt.replace(\"bananas\", \"apples\")\n",
    "\n",
    "print(x)\n",
    "print(len(x))"
   ]
  },
  {
   "cell_type": "markdown",
   "id": "84385e52-e989-47d3-a842-cf39d66db9d6",
   "metadata": {},
   "source": [
    "# Working with numbers"
   ]
  },
  {
   "cell_type": "code",
   "execution_count": null,
   "id": "7fc13cbf-cc9f-4974-bd7f-3a5da4f1298b",
   "metadata": {},
   "outputs": [],
   "source": [
    "x =\"5\"\n",
    "y=int(x)\n",
    "print(y+2)"
   ]
  },
  {
   "cell_type": "markdown",
   "id": "474a956e-4812-428a-9667-9783ec2b310b",
   "metadata": {},
   "source": [
    "# Getting user input + if else statements"
   ]
  },
  {
   "cell_type": "code",
   "execution_count": null,
   "id": "e867f951-48e3-4647-9bb7-3dbe4dce6299",
   "metadata": {},
   "outputs": [],
   "source": [
    "a = int(input(\"please enter number:\"))\n",
    "\n",
    "if (a==5):\n",
    "    print(\"correct answer\")\n",
    "elif (a==6):\n",
    "    print(\"correct also\")\n",
    "elif (a==7):\n",
    "    print(\"correct 3x\")\n",
    "else:\n",
    "    print(\"none is correct\")\n",
    "    "
   ]
  },
  {
   "cell_type": "markdown",
   "id": "0445f29c-103f-43e7-b279-541c1d7e036f",
   "metadata": {},
   "source": [
    "# For loop"
   ]
  },
  {
   "cell_type": "code",
   "execution_count": null,
   "id": "be4b2f4c-385c-4754-945b-80bd5fe731a5",
   "metadata": {},
   "outputs": [],
   "source": [
    "for i in range(2,5,2):\n",
    "    print(i)"
   ]
  },
  {
   "cell_type": "markdown",
   "id": "a3ab198f-3e33-4abc-acd6-d129462ae26e",
   "metadata": {},
   "source": [
    "# While loop + potential conditions"
   ]
  },
  {
   "cell_type": "code",
   "execution_count": null,
   "id": "6c36d693-989f-45aa-99e6-ea845de212bc",
   "metadata": {},
   "outputs": [],
   "source": [
    "count = 0 \n",
    "bool = True\n",
    "while(bool):\n",
    "    print(\"loop moving\")\n",
    "    count = count + 1\n",
    "    if (count==3):\n",
    "        break"
   ]
  },
  {
   "cell_type": "code",
   "execution_count": null,
   "id": "4724c7c0-f077-45d7-bff8-fa87d65fc1be",
   "metadata": {},
   "outputs": [],
   "source": [
    "#in the loop, continue is skip iteration, and break is out of loop\n",
    "for i in range(0,6):\n",
    "    if(i>3):\n",
    "        continue\n",
    "   \n",
    "    print(i)\n",
    "    "
   ]
  },
  {
   "cell_type": "code",
   "execution_count": null,
   "id": "43d07e3c-5330-403f-a11e-2f999129217d",
   "metadata": {},
   "outputs": [],
   "source": [
    "sum = 0\n",
    "for i in range (1,6):\n",
    "    a = int(input(\"Numbers\"))\n",
    "    sum = sum+a\n",
    "    \n",
    "    print(sum)"
   ]
  },
  {
   "cell_type": "markdown",
   "id": "2b33ca3d-d0bb-4cbd-b5c6-ca51c78d8176",
   "metadata": {},
   "source": [
    "# Array + import"
   ]
  },
  {
   "cell_type": "code",
   "execution_count": 8,
   "id": "3a7ede01-9f9c-477b-ac76-5afdbe6ab1fd",
   "metadata": {},
   "outputs": [],
   "source": [
    "#pop()\n",
    "#remove()\n",
    "#append()\n",
    "#clear()\n",
    "\n",
    "cars = [\"Volvo\", \"Honda\", \"Myvi\"]\n",
    "boat = [\"yacht\", \"sampan\", \"ferry\"]\n",
    "plane = [\"boeing\", \"airbus\", \"chinaplane\"]\n",
    "num = [1,2,3,4,5] ##6\n",
    "\n",
    "\n",
    "vehicle = [cars, boat, plane]\n"
   ]
  },
  {
   "cell_type": "code",
   "execution_count": null,
   "id": "7dc8057f-5f7a-46d2-bb08-058a61eee14f",
   "metadata": {},
   "outputs": [],
   "source": [
    "for i in range(0,3):\n",
    "    for n in range(0,3):\n",
    "        print(vehicle[i][n])"
   ]
  },
  {
   "cell_type": "code",
   "execution_count": null,
   "id": "b0ddfa1d-3124-45e8-b680-145ec86b93f2",
   "metadata": {},
   "outputs": [],
   "source": [
    "print(cars)"
   ]
  },
  {
   "cell_type": "code",
   "execution_count": null,
   "id": "f4e951a4-9476-40f8-a1f8-76237b771e77",
   "metadata": {},
   "outputs": [],
   "source": [
    "popped_value"
   ]
  },
  {
   "cell_type": "code",
   "execution_count": 5,
   "id": "7bc8ffcf-f498-4e55-8bf5-e4726b01d4f9",
   "metadata": {},
   "outputs": [],
   "source": [
    "import random\n",
    "a = random.randint(1,10)"
   ]
  },
  {
   "cell_type": "code",
   "execution_count": 6,
   "id": "a2ab2257-1954-4756-ba4f-6b489b6e3954",
   "metadata": {},
   "outputs": [
    {
     "data": {
      "text/plain": [
       "2"
      ]
     },
     "execution_count": 6,
     "metadata": {},
     "output_type": "execute_result"
    }
   ],
   "source": [
    "##question 1 append 5 random numbers into this array from 1 to 10\n",
    "## question 2 find biggest number in array\n",
    "## question 3 find smallest number in array\n",
    "## question 4 print the biggest number and smallest number in array\n",
    "## question 5 print u have made it if any 2 numbers in the array equals to 10\n",
    "\n",
    "\n",
    "num =[]\n",
    "\n"
   ]
  },
  {
   "cell_type": "code",
   "execution_count": null,
   "id": "ff9fd1de-5725-4f14-a5c7-cf45cb9caff0",
   "metadata": {},
   "outputs": [],
   "source": []
  }
 ],
 "metadata": {
  "kernelspec": {
   "display_name": "Python 3",
   "language": "python",
   "name": "python3"
  },
  "language_info": {
   "codemirror_mode": {
    "name": "ipython",
    "version": 3
   },
   "file_extension": ".py",
   "mimetype": "text/x-python",
   "name": "python",
   "nbconvert_exporter": "python",
   "pygments_lexer": "ipython3",
   "version": "3.6.12"
  }
 },
 "nbformat": 4,
 "nbformat_minor": 5
}
