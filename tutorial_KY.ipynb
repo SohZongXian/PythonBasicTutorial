{
 "cells": [
  {
   "cell_type": "markdown",
   "id": "55da8a71-42ae-4238-8466-f8905e317af8",
   "metadata": {},
   "source": [
    "# Print"
   ]
  },
  {
   "cell_type": "code",
   "execution_count": null,
   "id": "768d64af-3554-4908-9c49-fe5aa0457dcc",
   "metadata": {},
   "outputs": [],
   "source": [
    "print()"
   ]
  },
  {
   "cell_type": "markdown",
   "id": "cf35caa7-0ea8-431b-8f5f-b4fb8052eedd",
   "metadata": {},
   "source": [
    "## Variable and Data type "
   ]
  },
  {
   "cell_type": "code",
   "execution_count": null,
   "id": "1a512d37-25c2-45cf-974c-a4a2ce26c0e3",
   "metadata": {},
   "outputs": [],
   "source": [
    "# int\n",
    "x = 4 \n",
    "\n",
    "# float\n",
    "y = 4.0\n",
    "\n",
    "# string\n",
    "z = \"hello\""
   ]
  },
  {
   "cell_type": "markdown",
   "id": "52f08f99-ab2e-43d8-a307-7d9c472dafed",
   "metadata": {},
   "source": [
    "# Working with string"
   ]
  },
  {
   "cell_type": "code",
   "execution_count": null,
   "id": "fb287c61-3cf7-489b-a6c3-e78f839da0e6",
   "metadata": {},
   "outputs": [],
   "source": [
    "txt = \"I like bananas\"\n",
    "\n",
    "x = txt.replace(\"bananas\", \"apples\")\n",
    "\n",
    "print(x)\n",
    "print(len(x))"
   ]
  },
  {
   "cell_type": "markdown",
   "id": "84385e52-e989-47d3-a842-cf39d66db9d6",
   "metadata": {},
   "source": [
    "# Working with numbers"
   ]
  },
  {
   "cell_type": "code",
   "execution_count": null,
   "id": "7fc13cbf-cc9f-4974-bd7f-3a5da4f1298b",
   "metadata": {},
   "outputs": [],
   "source": [
    "x = 1+1 "
   ]
  },
  {
   "cell_type": "markdown",
   "id": "474a956e-4812-428a-9667-9783ec2b310b",
   "metadata": {},
   "source": [
    "# Getting user input + if else statements"
   ]
  },
  {
   "cell_type": "code",
   "execution_count": 3,
   "id": "e867f951-48e3-4647-9bb7-3dbe4dce6299",
   "metadata": {},
   "outputs": [
    {
     "name": "stdin",
     "output_type": "stream",
     "text": [
      "Plese enter a number : 2\n"
     ]
    }
   ],
   "source": [
    "a = int(input(\"Plese enter a number :\"))"
   ]
  },
  {
   "cell_type": "markdown",
   "id": "0445f29c-103f-43e7-b279-541c1d7e036f",
   "metadata": {},
   "source": [
    "# Bulilding A basic Calculator"
   ]
  },
  {
   "cell_type": "code",
   "execution_count": null,
   "id": "be4b2f4c-385c-4754-945b-80bd5fe731a5",
   "metadata": {},
   "outputs": [],
   "source": []
  }
 ],
 "metadata": {
  "kernelspec": {
   "display_name": "Python 3",
   "language": "python",
   "name": "python3"
  },
  "language_info": {
   "codemirror_mode": {
    "name": "ipython",
    "version": 3
   },
   "file_extension": ".py",
   "mimetype": "text/x-python",
   "name": "python",
   "nbconvert_exporter": "python",
   "pygments_lexer": "ipython3",
   "version": "3.6.12"
  }
 },
 "nbformat": 4,
 "nbformat_minor": 5
}
