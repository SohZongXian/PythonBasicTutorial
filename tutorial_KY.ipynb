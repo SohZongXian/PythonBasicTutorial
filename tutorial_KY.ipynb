{
 "cells": [
  {
   "cell_type": "markdown",
   "id": "55da8a71-42ae-4238-8466-f8905e317af8",
   "metadata": {},
   "source": [
    "# Print"
   ]
  },
  {
   "cell_type": "code",
   "execution_count": null,
   "id": "768d64af-3554-4908-9c49-fe5aa0457dcc",
   "metadata": {},
   "outputs": [],
   "source": [
    "##string\n",
    "print(\"4\" + \"2\")\n",
    "\n",
    "##int\n",
    "print(4+2)\n",
    "\n",
    "#float\n",
    "print(4.00+2.00)"
   ]
  },
  {
   "cell_type": "markdown",
   "id": "cf35caa7-0ea8-431b-8f5f-b4fb8052eedd",
   "metadata": {},
   "source": [
    "## Variable and Data type "
   ]
  },
  {
   "cell_type": "code",
   "execution_count": null,
   "id": "1a512d37-25c2-45cf-974c-a4a2ce26c0e3",
   "metadata": {},
   "outputs": [],
   "source": [
    "# int\n",
    "x = 4 \n",
    "\n",
    "# float\n",
    "y = 4.0\n",
    "\n",
    "# string\n",
    "z = \"hello\"\n",
    "\n",
    "print(x)"
   ]
  },
  {
   "cell_type": "markdown",
   "id": "52f08f99-ab2e-43d8-a307-7d9c472dafed",
   "metadata": {},
   "source": [
    "# Working with string"
   ]
  },
  {
   "cell_type": "code",
   "execution_count": null,
   "id": "fb287c61-3cf7-489b-a6c3-e78f839da0e6",
   "metadata": {},
   "outputs": [],
   "source": [
    "txt = \"I like bananas\"\n",
    "\n",
    "x = txt.replace(\"bananas\", \"apples\")\n",
    "\n",
    "print(x)\n",
    "print(len(x))"
   ]
  },
  {
   "cell_type": "markdown",
   "id": "84385e52-e989-47d3-a842-cf39d66db9d6",
   "metadata": {},
   "source": [
    "# Working with numbers"
   ]
  },
  {
   "cell_type": "code",
   "execution_count": 8,
   "id": "7fc13cbf-cc9f-4974-bd7f-3a5da4f1298b",
   "metadata": {},
   "outputs": [
    {
     "name": "stdout",
     "output_type": "stream",
     "text": [
      "7\n"
     ]
    }
   ],
   "source": [
    "x =\"5\"\n",
    "y=int(x)\n",
    "print(y+2)"
   ]
  },
  {
   "cell_type": "markdown",
   "id": "474a956e-4812-428a-9667-9783ec2b310b",
   "metadata": {},
   "source": [
    "# Getting user input + if else statements"
   ]
  },
  {
   "cell_type": "code",
   "execution_count": 15,
   "id": "e867f951-48e3-4647-9bb7-3dbe4dce6299",
   "metadata": {},
   "outputs": [
    {
     "name": "stdin",
     "output_type": "stream",
     "text": [
      "please enter number: 9\n"
     ]
    },
    {
     "name": "stdout",
     "output_type": "stream",
     "text": [
      "none is correct\n"
     ]
    }
   ],
   "source": [
    "a = int(input(\"please enter number:\"))\n",
    "\n",
    "if (a==5):\n",
    "    print(\"correct answer\")\n",
    "elif (a==6):\n",
    "    print(\"correct also\")\n",
    "elif (a==7):\n",
    "    print(\"correct 3x\")\n",
    "else:\n",
    "    print(\"none is correct\")\n",
    "    "
   ]
  },
  {
   "cell_type": "markdown",
   "id": "0445f29c-103f-43e7-b279-541c1d7e036f",
   "metadata": {},
   "source": [
    "# For loop"
   ]
  },
  {
   "cell_type": "code",
   "execution_count": 4,
   "id": "be4b2f4c-385c-4754-945b-80bd5fe731a5",
   "metadata": {},
   "outputs": [
    {
     "name": "stdout",
     "output_type": "stream",
     "text": [
      "2\n",
      "4\n"
     ]
    }
   ],
   "source": [
    "for i in range(2,5,2):\n",
    "    print(i)"
   ]
  },
  {
   "cell_type": "markdown",
   "id": "a3ab198f-3e33-4abc-acd6-d129462ae26e",
   "metadata": {},
   "source": [
    "# While loop + potential conditions"
   ]
  },
  {
   "cell_type": "code",
   "execution_count": 7,
   "id": "6c36d693-989f-45aa-99e6-ea845de212bc",
   "metadata": {},
   "outputs": [
    {
     "name": "stdout",
     "output_type": "stream",
     "text": [
      "loop moving\n",
      "loop moving\n",
      "loop moving\n"
     ]
    }
   ],
   "source": [
    "count = 0 \n",
    "bool = True\n",
    "while(bool):\n",
    "    print(\"loop moving\")\n",
    "    count = count + 1\n",
    "    if (count==3):\n",
    "        break"
   ]
  },
  {
   "cell_type": "code",
   "execution_count": null,
   "id": "812aa429-6f78-48d8-93f8-0c888d5f7869",
   "metadata": {},
   "outputs": [],
   "source": []
  }
 ],
 "metadata": {
  "kernelspec": {
   "display_name": "Python 3",
   "language": "python",
   "name": "python3"
  },
  "language_info": {
   "codemirror_mode": {
    "name": "ipython",
    "version": 3
   },
   "file_extension": ".py",
   "mimetype": "text/x-python",
   "name": "python",
   "nbconvert_exporter": "python",
   "pygments_lexer": "ipython3",
   "version": "3.6.12"
  }
 },
 "nbformat": 4,
 "nbformat_minor": 5
}
